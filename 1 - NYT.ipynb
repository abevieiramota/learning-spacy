{
 "cells": [
  {
   "cell_type": "code",
   "execution_count": 88,
   "metadata": {},
   "outputs": [],
   "source": [
    "import pandas as pd\n",
    "# https://spacy.io/api/annotation#pos-tagging\n",
    "POS_TAGS = \\\n",
    "{'ADJ': 'adjective',\n",
    " 'ADP': 'adposition',\n",
    " 'ADV': 'adverb',\n",
    " 'AUX': 'auxiliary',\n",
    " 'CONJ': 'conjunction',\n",
    " 'CCONJ': 'coordinating conjunction',\n",
    " 'DET': 'determiner',\n",
    " 'INTJ': 'interjection',\n",
    " 'NOUN': 'noun',\n",
    " 'NUM': 'numeral',\n",
    " 'PART': 'particle',\n",
    " 'PRON': 'pronoun',\n",
    " 'PROPN': 'proper noun',\n",
    " 'PUNCT': 'punctuation',\n",
    " 'SCONJ': 'subordinating conjunction',\n",
    " 'SYM': 'symbol',\n",
    " 'VERB': 'verb',\n",
    " 'X': 'other',\n",
    " 'SPACE': 'space'}\n",
    "MAP_0_1 = {0: '--', 1: 'X'}\n",
    "COLUMNS = [\"Text\", \"POS\", \"Dep\", \"Lemma\", \"Tag\", \"Shape\", \"Alpha\", \"Stop\", \"Head\", \"Left\", \"Right\", \"Entity\", \"EntIOB\", \"Lemma\", \"token\"]\n",
    "\n",
    "def doc_to_df(doc):\n",
    "    \n",
    "    data = []\n",
    "    for token in doc:\n",
    "        \n",
    "        data.append((token.text, POS_TAGS[token.pos_], token.dep_, token.lemma_, token.tag_, \n",
    "                         token.shape_, MAP_0_1[token.is_alpha], MAP_0_1[token.is_stop],\n",
    "                         token.head.text, token.left_edge.text, token.right_edge.text,\n",
    "                         token.ent_type_, token.ent_iob_, token.lemma_, token))\n",
    "        \n",
    "    return pd.DataFrame(data, columns=COLUMNS)"
   ]
  },
  {
   "cell_type": "code",
   "execution_count": 85,
   "metadata": {},
   "outputs": [],
   "source": [
    "import spacy\n",
    "from spacy import displacy\n",
    "\n",
    "nlp = spacy.load('en_core_web_lg')"
   ]
  },
  {
   "cell_type": "markdown",
   "metadata": {},
   "source": [
    "## https://www.nytimes.com/2018/06/02/world/asia/trump-north-korea-nuclear-arms.html"
   ]
  },
  {
   "cell_type": "code",
   "execution_count": 58,
   "metadata": {},
   "outputs": [],
   "source": [
    "s = \"\"\"WASHINGTON — President Trump never tires of pointing out that his predecessors left him the “mess” of a nuclear-armed North Korea — a legacy of errors he vows not to repeat.\n",
    "But as Mr. Trump announced Friday that his summit meeting with Kim Jong-un was back on, there were moments when he echoed Bill Clinton in his failed effort to settle another North Korea crisis nearly a quarter century ago.\n",
    "Rather than sticking with the demand that North Korea disarm immediately, Mr. Trump opened the door to a prolonged freeze on the North’s existing nuclear capability, with vague declarations that disarmament will follow. That is essentially the deal Mr. Clinton embarked on with Mr. Kim’s grandfather, Kim Il-sung, in 1994.\n",
    "\"\"\""
   ]
  },
  {
   "cell_type": "code",
   "execution_count": 59,
   "metadata": {},
   "outputs": [],
   "source": [
    "doc = nlp(s)"
   ]
  },
  {
   "cell_type": "code",
   "execution_count": 40,
   "metadata": {},
   "outputs": [
    {
     "data": {
      "text/html": [
       "<div class=\"entities\" style=\"line-height: 2.5\">\n",
       "<mark class=\"entity\" style=\"background: #feca74; padding: 0.45em 0.6em; margin: 0 0.25em; line-height: 1; border-radius: 0.35em; box-decoration-break: clone; -webkit-box-decoration-break: clone\">\n",
       "    WASHINGTON\n",
       "    <span style=\"font-size: 0.8em; font-weight: bold; line-height: 1; border-radius: 0.35em; text-transform: uppercase; vertical-align: middle; margin-left: 0.5rem\">GPE</span>\n",
       "</mark>\n",
       " — President \n",
       "<mark class=\"entity\" style=\"background: #aa9cfc; padding: 0.45em 0.6em; margin: 0 0.25em; line-height: 1; border-radius: 0.35em; box-decoration-break: clone; -webkit-box-decoration-break: clone\">\n",
       "    Trump\n",
       "    <span style=\"font-size: 0.8em; font-weight: bold; line-height: 1; border-radius: 0.35em; text-transform: uppercase; vertical-align: middle; margin-left: 0.5rem\">PERSON</span>\n",
       "</mark>\n",
       " never tires of pointing out that his predecessors left him the “mess” of a nuclear-armed \n",
       "<mark class=\"entity\" style=\"background: #feca74; padding: 0.45em 0.6em; margin: 0 0.25em; line-height: 1; border-radius: 0.35em; box-decoration-break: clone; -webkit-box-decoration-break: clone\">\n",
       "    North Korea\n",
       "    <span style=\"font-size: 0.8em; font-weight: bold; line-height: 1; border-radius: 0.35em; text-transform: uppercase; vertical-align: middle; margin-left: 0.5rem\">GPE</span>\n",
       "</mark>\n",
       " — a legacy of errors he vows not to repeat.</br>But as Mr. \n",
       "<mark class=\"entity\" style=\"background: #aa9cfc; padding: 0.45em 0.6em; margin: 0 0.25em; line-height: 1; border-radius: 0.35em; box-decoration-break: clone; -webkit-box-decoration-break: clone\">\n",
       "    Trump\n",
       "    <span style=\"font-size: 0.8em; font-weight: bold; line-height: 1; border-radius: 0.35em; text-transform: uppercase; vertical-align: middle; margin-left: 0.5rem\">PERSON</span>\n",
       "</mark>\n",
       " announced \n",
       "<mark class=\"entity\" style=\"background: #bfe1d9; padding: 0.45em 0.6em; margin: 0 0.25em; line-height: 1; border-radius: 0.35em; box-decoration-break: clone; -webkit-box-decoration-break: clone\">\n",
       "    Friday\n",
       "    <span style=\"font-size: 0.8em; font-weight: bold; line-height: 1; border-radius: 0.35em; text-transform: uppercase; vertical-align: middle; margin-left: 0.5rem\">DATE</span>\n",
       "</mark>\n",
       " that his summit meeting with \n",
       "<mark class=\"entity\" style=\"background: #aa9cfc; padding: 0.45em 0.6em; margin: 0 0.25em; line-height: 1; border-radius: 0.35em; box-decoration-break: clone; -webkit-box-decoration-break: clone\">\n",
       "    Kim Jong-un\n",
       "    <span style=\"font-size: 0.8em; font-weight: bold; line-height: 1; border-radius: 0.35em; text-transform: uppercase; vertical-align: middle; margin-left: 0.5rem\">PERSON</span>\n",
       "</mark>\n",
       " was back on, there were moments when he echoed \n",
       "<mark class=\"entity\" style=\"background: #aa9cfc; padding: 0.45em 0.6em; margin: 0 0.25em; line-height: 1; border-radius: 0.35em; box-decoration-break: clone; -webkit-box-decoration-break: clone\">\n",
       "    Bill Clinton\n",
       "    <span style=\"font-size: 0.8em; font-weight: bold; line-height: 1; border-radius: 0.35em; text-transform: uppercase; vertical-align: middle; margin-left: 0.5rem\">PERSON</span>\n",
       "</mark>\n",
       " in his failed effort to settle another \n",
       "<mark class=\"entity\" style=\"background: #feca74; padding: 0.45em 0.6em; margin: 0 0.25em; line-height: 1; border-radius: 0.35em; box-decoration-break: clone; -webkit-box-decoration-break: clone\">\n",
       "    North Korea\n",
       "    <span style=\"font-size: 0.8em; font-weight: bold; line-height: 1; border-radius: 0.35em; text-transform: uppercase; vertical-align: middle; margin-left: 0.5rem\">GPE</span>\n",
       "</mark>\n",
       " crisis \n",
       "<mark class=\"entity\" style=\"background: #bfe1d9; padding: 0.45em 0.6em; margin: 0 0.25em; line-height: 1; border-radius: 0.35em; box-decoration-break: clone; -webkit-box-decoration-break: clone\">\n",
       "    nearly a quarter century ago\n",
       "    <span style=\"font-size: 0.8em; font-weight: bold; line-height: 1; border-radius: 0.35em; text-transform: uppercase; vertical-align: middle; margin-left: 0.5rem\">DATE</span>\n",
       "</mark>\n",
       ".</br>Rather than sticking with the demand that \n",
       "<mark class=\"entity\" style=\"background: #feca74; padding: 0.45em 0.6em; margin: 0 0.25em; line-height: 1; border-radius: 0.35em; box-decoration-break: clone; -webkit-box-decoration-break: clone\">\n",
       "    North Korea\n",
       "    <span style=\"font-size: 0.8em; font-weight: bold; line-height: 1; border-radius: 0.35em; text-transform: uppercase; vertical-align: middle; margin-left: 0.5rem\">GPE</span>\n",
       "</mark>\n",
       " disarm immediately, Mr. \n",
       "<mark class=\"entity\" style=\"background: #aa9cfc; padding: 0.45em 0.6em; margin: 0 0.25em; line-height: 1; border-radius: 0.35em; box-decoration-break: clone; -webkit-box-decoration-break: clone\">\n",
       "    Trump\n",
       "    <span style=\"font-size: 0.8em; font-weight: bold; line-height: 1; border-radius: 0.35em; text-transform: uppercase; vertical-align: middle; margin-left: 0.5rem\">PERSON</span>\n",
       "</mark>\n",
       " opened the door to a prolonged freeze on the \n",
       "<mark class=\"entity\" style=\"background: #ff9561; padding: 0.45em 0.6em; margin: 0 0.25em; line-height: 1; border-radius: 0.35em; box-decoration-break: clone; -webkit-box-decoration-break: clone\">\n",
       "    North\n",
       "    <span style=\"font-size: 0.8em; font-weight: bold; line-height: 1; border-radius: 0.35em; text-transform: uppercase; vertical-align: middle; margin-left: 0.5rem\">LOC</span>\n",
       "</mark>\n",
       "’s existing nuclear capability, with vague declarations that disarmament will follow. That is essentially the deal Mr. \n",
       "<mark class=\"entity\" style=\"background: #aa9cfc; padding: 0.45em 0.6em; margin: 0 0.25em; line-height: 1; border-radius: 0.35em; box-decoration-break: clone; -webkit-box-decoration-break: clone\">\n",
       "    Clinton\n",
       "    <span style=\"font-size: 0.8em; font-weight: bold; line-height: 1; border-radius: 0.35em; text-transform: uppercase; vertical-align: middle; margin-left: 0.5rem\">PERSON</span>\n",
       "</mark>\n",
       " embarked on with Mr. \n",
       "<mark class=\"entity\" style=\"background: #aa9cfc; padding: 0.45em 0.6em; margin: 0 0.25em; line-height: 1; border-radius: 0.35em; box-decoration-break: clone; -webkit-box-decoration-break: clone\">\n",
       "    Kim\n",
       "    <span style=\"font-size: 0.8em; font-weight: bold; line-height: 1; border-radius: 0.35em; text-transform: uppercase; vertical-align: middle; margin-left: 0.5rem\">PERSON</span>\n",
       "</mark>\n",
       "’s grandfather, \n",
       "<mark class=\"entity\" style=\"background: #aa9cfc; padding: 0.45em 0.6em; margin: 0 0.25em; line-height: 1; border-radius: 0.35em; box-decoration-break: clone; -webkit-box-decoration-break: clone\">\n",
       "    Kim Il-sung\n",
       "    <span style=\"font-size: 0.8em; font-weight: bold; line-height: 1; border-radius: 0.35em; text-transform: uppercase; vertical-align: middle; margin-left: 0.5rem\">PERSON</span>\n",
       "</mark>\n",
       ", in \n",
       "<mark class=\"entity\" style=\"background: #bfe1d9; padding: 0.45em 0.6em; margin: 0 0.25em; line-height: 1; border-radius: 0.35em; box-decoration-break: clone; -webkit-box-decoration-break: clone\">\n",
       "    1994\n",
       "    <span style=\"font-size: 0.8em; font-weight: bold; line-height: 1; border-radius: 0.35em; text-transform: uppercase; vertical-align: middle; margin-left: 0.5rem\">DATE</span>\n",
       "</mark>\n",
       ".\n",
       "</div>"
      ],
      "text/plain": [
       "<IPython.core.display.HTML object>"
      ]
     },
     "metadata": {},
     "output_type": "display_data"
    }
   ],
   "source": [
    "displacy.render(doc, style='ent', jupyter=True)"
   ]
  },
  {
   "cell_type": "code",
   "execution_count": 90,
   "metadata": {},
   "outputs": [
    {
     "data": {
      "text/html": [
       "<div>\n",
       "<style scoped>\n",
       "    .dataframe tbody tr th:only-of-type {\n",
       "        vertical-align: middle;\n",
       "    }\n",
       "\n",
       "    .dataframe tbody tr th {\n",
       "        vertical-align: top;\n",
       "    }\n",
       "\n",
       "    .dataframe thead th {\n",
       "        text-align: right;\n",
       "    }\n",
       "</style>\n",
       "<table border=\"1\" class=\"dataframe\">\n",
       "  <thead>\n",
       "    <tr style=\"text-align: right;\">\n",
       "      <th></th>\n",
       "      <th>Text</th>\n",
       "      <th>POS</th>\n",
       "      <th>Dep</th>\n",
       "      <th>Lemma</th>\n",
       "      <th>Tag</th>\n",
       "      <th>Shape</th>\n",
       "      <th>Alpha</th>\n",
       "      <th>Stop</th>\n",
       "      <th>Head</th>\n",
       "      <th>Left</th>\n",
       "      <th>Right</th>\n",
       "      <th>Entity</th>\n",
       "      <th>EntIOB</th>\n",
       "      <th>Lemma</th>\n",
       "      <th>token</th>\n",
       "    </tr>\n",
       "  </thead>\n",
       "  <tbody>\n",
       "    <tr>\n",
       "      <th>0</th>\n",
       "      <td>WASHINGTON</td>\n",
       "      <td>proper noun</td>\n",
       "      <td>compound</td>\n",
       "      <td>washington</td>\n",
       "      <td>NNP</td>\n",
       "      <td>XXXX</td>\n",
       "      <td>X</td>\n",
       "      <td>--</td>\n",
       "      <td>—</td>\n",
       "      <td>WASHINGTON</td>\n",
       "      <td>WASHINGTON</td>\n",
       "      <td>GPE</td>\n",
       "      <td>B</td>\n",
       "      <td>washington</td>\n",
       "      <td>WASHINGTON</td>\n",
       "    </tr>\n",
       "    <tr>\n",
       "      <th>1</th>\n",
       "      <td>—</td>\n",
       "      <td>punctuation</td>\n",
       "      <td>ROOT</td>\n",
       "      <td>--</td>\n",
       "      <td></td>\n",
       "      <td>—</td>\n",
       "      <td>--</td>\n",
       "      <td>--</td>\n",
       "      <td>—</td>\n",
       "      <td>WASHINGTON</td>\n",
       "      <td>—</td>\n",
       "      <td></td>\n",
       "      <td>O</td>\n",
       "      <td>--</td>\n",
       "      <td>—</td>\n",
       "    </tr>\n",
       "    <tr>\n",
       "      <th>2</th>\n",
       "      <td>President</td>\n",
       "      <td>proper noun</td>\n",
       "      <td>compound</td>\n",
       "      <td>president</td>\n",
       "      <td>NNP</td>\n",
       "      <td>Xxxxx</td>\n",
       "      <td>X</td>\n",
       "      <td>--</td>\n",
       "      <td>Trump</td>\n",
       "      <td>President</td>\n",
       "      <td>President</td>\n",
       "      <td></td>\n",
       "      <td>O</td>\n",
       "      <td>president</td>\n",
       "      <td>President</td>\n",
       "    </tr>\n",
       "    <tr>\n",
       "      <th>3</th>\n",
       "      <td>Trump</td>\n",
       "      <td>proper noun</td>\n",
       "      <td>nsubj</td>\n",
       "      <td>trump</td>\n",
       "      <td>NNP</td>\n",
       "      <td>Xxxxx</td>\n",
       "      <td>X</td>\n",
       "      <td>--</td>\n",
       "      <td>tires</td>\n",
       "      <td>President</td>\n",
       "      <td>Trump</td>\n",
       "      <td>PERSON</td>\n",
       "      <td>B</td>\n",
       "      <td>trump</td>\n",
       "      <td>Trump</td>\n",
       "    </tr>\n",
       "    <tr>\n",
       "      <th>4</th>\n",
       "      <td>never</td>\n",
       "      <td>adverb</td>\n",
       "      <td>neg</td>\n",
       "      <td>never</td>\n",
       "      <td>RB</td>\n",
       "      <td>xxxx</td>\n",
       "      <td>X</td>\n",
       "      <td>--</td>\n",
       "      <td>tires</td>\n",
       "      <td>never</td>\n",
       "      <td>never</td>\n",
       "      <td></td>\n",
       "      <td>O</td>\n",
       "      <td>never</td>\n",
       "      <td>never</td>\n",
       "    </tr>\n",
       "  </tbody>\n",
       "</table>\n",
       "</div>"
      ],
      "text/plain": [
       "         Text          POS       Dep       Lemma  Tag  Shape Alpha Stop  \\\n",
       "0  WASHINGTON  proper noun  compound  washington  NNP   XXXX     X   --   \n",
       "1           —  punctuation      ROOT          --           —    --   --   \n",
       "2   President  proper noun  compound   president  NNP  Xxxxx     X   --   \n",
       "3       Trump  proper noun     nsubj       trump  NNP  Xxxxx     X   --   \n",
       "4       never       adverb       neg       never   RB   xxxx     X   --   \n",
       "\n",
       "    Head        Left       Right  Entity EntIOB       Lemma       token  \n",
       "0      —  WASHINGTON  WASHINGTON     GPE      B  washington  WASHINGTON  \n",
       "1      —  WASHINGTON           —              O          --           —  \n",
       "2  Trump   President   President              O   president   President  \n",
       "3  tires   President       Trump  PERSON      B       trump       Trump  \n",
       "4  tires       never       never              O       never       never  "
      ]
     },
     "execution_count": 90,
     "metadata": {},
     "output_type": "execute_result"
    }
   ],
   "source": [
    "df = doc_to_df(doc)\n",
    "df.head()"
   ]
  },
  {
   "cell_type": "code",
   "execution_count": 95,
   "metadata": {},
   "outputs": [
    {
     "data": {
      "text/plain": [
       "3     (President, Trump)\n",
       "40          (Mr., Trump)\n",
       "94          (Mr., Trump)\n",
       "Name: token, dtype: object"
      ]
     },
     "execution_count": 95,
     "metadata": {},
     "output_type": "execute_result"
    }
   ],
   "source": [
    "df[df.token.apply(lambda t: t.lower_) == 'trump'].token.apply(lambda t: doc[t.left_edge.i: t.right_edge.i + 1])"
   ]
  },
  {
   "cell_type": "code",
   "execution_count": 96,
   "metadata": {},
   "outputs": [
    {
     "data": {
      "text/plain": [
       "48              (Kim)\n",
       "129    (Mr., Kim, ’s)\n",
       "133             (Kim)\n",
       "Name: token, dtype: object"
      ]
     },
     "execution_count": 96,
     "metadata": {},
     "output_type": "execute_result"
    }
   ],
   "source": [
    "df[df.token.apply(lambda t: t.lower_) == 'kim'].token.apply(lambda t: doc[t.left_edge.i: t.right_edge.i + 1])"
   ]
  },
  {
   "cell_type": "code",
   "execution_count": null,
   "metadata": {},
   "outputs": [],
   "source": []
  }
 ],
 "metadata": {
  "kernelspec": {
   "display_name": "Python 3",
   "language": "python",
   "name": "python3"
  },
  "language_info": {
   "codemirror_mode": {
    "name": "ipython",
    "version": 3
   },
   "file_extension": ".py",
   "mimetype": "text/x-python",
   "name": "python",
   "nbconvert_exporter": "python",
   "pygments_lexer": "ipython3",
   "version": "3.6.5"
  }
 },
 "nbformat": 4,
 "nbformat_minor": 2
}
